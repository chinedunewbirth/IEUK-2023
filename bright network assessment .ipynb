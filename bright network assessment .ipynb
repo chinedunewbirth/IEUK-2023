{
 "cells": [
  {
   "cell_type": "markdown",
   "id": "f12544e1",
   "metadata": {},
   "source": [
    "   # Journey to Net Zero: Technology Innovation to support SME’s "
   ]
  },
  {
   "cell_type": "markdown",
   "id": "843cbfac",
   "metadata": {},
   "source": [
    "#https://www.data.gov.uk/dataset/723c243d-2f1a-4d27-8b61-cdb93e5b10ff/uk-local-authority-and-regional-greenhouse-gas-emissions/datafile/d2c9d418-622c-45e4-a949-d586545949aa/preview"
   ]
  },
  {
   "cell_type": "code",
   "execution_count": 123,
   "id": "31733d06",
   "metadata": {},
   "outputs": [],
   "source": [
    "#python library\n",
    "import pandas as pd\n",
    "import numpy as np\n",
    "\n",
    "#tools from sklearn\n",
    "from sklearn.model_selection import train_test_split\n",
    "from sklearn.preprocessing import LabelEncoder\n",
    "from sklearn.ensemble import RandomForestClassifier\n",
    "from sklearn.metrics import accuracy_score\n",
    "\n",
    "#plotting libraries\n",
    "import seaborn as sns\n",
    "import matplotlib.pyplot as plt"
   ]
  },
  {
   "cell_type": "code",
   "execution_count": 124,
   "id": "85511021",
   "metadata": {},
   "outputs": [
    {
     "data": {
      "text/html": [
       "<div>\n",
       "<style scoped>\n",
       "    .dataframe tbody tr th:only-of-type {\n",
       "        vertical-align: middle;\n",
       "    }\n",
       "\n",
       "    .dataframe tbody tr th {\n",
       "        vertical-align: top;\n",
       "    }\n",
       "\n",
       "    .dataframe thead th {\n",
       "        text-align: right;\n",
       "    }\n",
       "</style>\n",
       "<table border=\"1\" class=\"dataframe\">\n",
       "  <thead>\n",
       "    <tr style=\"text-align: right;\">\n",
       "      <th></th>\n",
       "      <th>Country</th>\n",
       "      <th>Country Code</th>\n",
       "      <th>Region</th>\n",
       "      <th>Region Code</th>\n",
       "      <th>Second Tier Authority</th>\n",
       "      <th>Local Authority</th>\n",
       "      <th>Local Authority Code</th>\n",
       "      <th>Calendar Year</th>\n",
       "      <th>LA GHG Sector</th>\n",
       "      <th>LA GHG Sub-sector</th>\n",
       "      <th>Greenhouse gas</th>\n",
       "      <th>Territorial emissions (kt CO2e)</th>\n",
       "      <th>CO2 emissions within the scope of influence of LAs (kt CO2e)</th>\n",
       "      <th>Mid-year Population (thousands)</th>\n",
       "      <th>Area (km2)</th>\n",
       "    </tr>\n",
       "  </thead>\n",
       "  <tbody>\n",
       "    <tr>\n",
       "      <th>0</th>\n",
       "      <td>England</td>\n",
       "      <td>E92000001</td>\n",
       "      <td>East Midlands</td>\n",
       "      <td>E12000004</td>\n",
       "      <td>Derby</td>\n",
       "      <td>Derby</td>\n",
       "      <td>E06000015</td>\n",
       "      <td>2005</td>\n",
       "      <td>Agriculture</td>\n",
       "      <td>Agriculture Electricity</td>\n",
       "      <td>CH4</td>\n",
       "      <td>0.010737</td>\n",
       "      <td>0.000000</td>\n",
       "      <td>236.47</td>\n",
       "      <td>78.0311</td>\n",
       "    </tr>\n",
       "    <tr>\n",
       "      <th>1</th>\n",
       "      <td>England</td>\n",
       "      <td>E92000001</td>\n",
       "      <td>East Midlands</td>\n",
       "      <td>E12000004</td>\n",
       "      <td>Derby</td>\n",
       "      <td>Derby</td>\n",
       "      <td>E06000015</td>\n",
       "      <td>2005</td>\n",
       "      <td>Agriculture</td>\n",
       "      <td>Agriculture Electricity</td>\n",
       "      <td>CO2</td>\n",
       "      <td>0.380289</td>\n",
       "      <td>0.380289</td>\n",
       "      <td>236.47</td>\n",
       "      <td>78.0311</td>\n",
       "    </tr>\n",
       "    <tr>\n",
       "      <th>2</th>\n",
       "      <td>England</td>\n",
       "      <td>E92000001</td>\n",
       "      <td>East Midlands</td>\n",
       "      <td>E12000004</td>\n",
       "      <td>Derby</td>\n",
       "      <td>Derby</td>\n",
       "      <td>E06000015</td>\n",
       "      <td>2005</td>\n",
       "      <td>Agriculture</td>\n",
       "      <td>Agriculture Electricity</td>\n",
       "      <td>N2O</td>\n",
       "      <td>0.001710</td>\n",
       "      <td>0.000000</td>\n",
       "      <td>236.47</td>\n",
       "      <td>78.0311</td>\n",
       "    </tr>\n",
       "    <tr>\n",
       "      <th>3</th>\n",
       "      <td>England</td>\n",
       "      <td>E92000001</td>\n",
       "      <td>East Midlands</td>\n",
       "      <td>E12000004</td>\n",
       "      <td>Derby</td>\n",
       "      <td>Derby</td>\n",
       "      <td>E06000015</td>\n",
       "      <td>2005</td>\n",
       "      <td>Agriculture</td>\n",
       "      <td>Agriculture Gas</td>\n",
       "      <td>CH4</td>\n",
       "      <td>0.021121</td>\n",
       "      <td>0.000000</td>\n",
       "      <td>236.47</td>\n",
       "      <td>78.0311</td>\n",
       "    </tr>\n",
       "    <tr>\n",
       "      <th>4</th>\n",
       "      <td>England</td>\n",
       "      <td>E92000001</td>\n",
       "      <td>East Midlands</td>\n",
       "      <td>E12000004</td>\n",
       "      <td>Derby</td>\n",
       "      <td>Derby</td>\n",
       "      <td>E06000015</td>\n",
       "      <td>2005</td>\n",
       "      <td>Agriculture</td>\n",
       "      <td>Agriculture Gas</td>\n",
       "      <td>CO2</td>\n",
       "      <td>0.700438</td>\n",
       "      <td>0.700438</td>\n",
       "      <td>236.47</td>\n",
       "      <td>78.0311</td>\n",
       "    </tr>\n",
       "  </tbody>\n",
       "</table>\n",
       "</div>"
      ],
      "text/plain": [
       "   Country Country Code         Region Region Code Second Tier Authority   \n",
       "0  England    E92000001  East Midlands   E12000004                 Derby  \\\n",
       "1  England    E92000001  East Midlands   E12000004                 Derby   \n",
       "2  England    E92000001  East Midlands   E12000004                 Derby   \n",
       "3  England    E92000001  East Midlands   E12000004                 Derby   \n",
       "4  England    E92000001  East Midlands   E12000004                 Derby   \n",
       "\n",
       "  Local Authority Local Authority Code  Calendar Year LA GHG Sector   \n",
       "0           Derby            E06000015           2005   Agriculture  \\\n",
       "1           Derby            E06000015           2005   Agriculture   \n",
       "2           Derby            E06000015           2005   Agriculture   \n",
       "3           Derby            E06000015           2005   Agriculture   \n",
       "4           Derby            E06000015           2005   Agriculture   \n",
       "\n",
       "         LA GHG Sub-sector Greenhouse gas  Territorial emissions (kt CO2e)   \n",
       "0  Agriculture Electricity            CH4                         0.010737  \\\n",
       "1  Agriculture Electricity            CO2                         0.380289   \n",
       "2  Agriculture Electricity            N2O                         0.001710   \n",
       "3          Agriculture Gas            CH4                         0.021121   \n",
       "4          Agriculture Gas            CO2                         0.700438   \n",
       "\n",
       "   CO2 emissions within the scope of influence of LAs (kt CO2e)   \n",
       "0                                           0.000000             \\\n",
       "1                                           0.380289              \n",
       "2                                           0.000000              \n",
       "3                                           0.000000              \n",
       "4                                           0.700438              \n",
       "\n",
       "   Mid-year Population (thousands)  Area (km2)  \n",
       "0                           236.47     78.0311  \n",
       "1                           236.47     78.0311  \n",
       "2                           236.47     78.0311  \n",
       "3                           236.47     78.0311  \n",
       "4                           236.47     78.0311  "
      ]
     },
     "execution_count": 124,
     "metadata": {},
     "output_type": "execute_result"
    }
   ],
   "source": [
    "#load dataset\n",
    "df = pd.read_csv('emission.csv')\n",
    "df.head()"
   ]
  },
  {
   "cell_type": "code",
   "execution_count": 125,
   "id": "1d3abb53",
   "metadata": {},
   "outputs": [
    {
     "data": {
      "text/plain": [
       "(467443, 15)"
      ]
     },
     "execution_count": 125,
     "metadata": {},
     "output_type": "execute_result"
    }
   ],
   "source": [
    "df.shape"
   ]
  },
  {
   "cell_type": "code",
   "execution_count": 126,
   "id": "2e03d9e6",
   "metadata": {},
   "outputs": [
    {
     "data": {
      "text/plain": [
       "array([[<Axes: title={'center': 'Calendar Year'}>,\n",
       "        <Axes: title={'center': 'Territorial emissions (kt CO2e)'}>],\n",
       "       [<Axes: title={'center': 'CO2 emissions within the scope of influence of LAs (kt CO2e)'}>,\n",
       "        <Axes: title={'center': 'Mid-year Population (thousands)'}>],\n",
       "       [<Axes: title={'center': 'Area (km2)'}>, <Axes: >]], dtype=object)"
      ]
     },
     "execution_count": 126,
     "metadata": {},
     "output_type": "execute_result"
    },
    {
     "data": {
      "image/png": "[encoded data removed]",
      "text/plain": [
       "<Figure size 2000x1600 with 6 Axes>"
      ]
     },
     "metadata": {},
     "output_type": "display_data"
    }
   ],
   "source": [
    "#plotting histograph to understanding data\n",
    "df.hist(figsize=(20, 16))"
   ]
  },
  {
   "cell_type": "code",
   "execution_count": 127,
   "id": "4ae6c3a0",
   "metadata": {},
   "outputs": [
    {
     "data": {
      "text/html": [
       "<div>\n",
       "<style scoped>\n",
       "    .dataframe tbody tr th:only-of-type {\n",
       "        vertical-align: middle;\n",
       "    }\n",
       "\n",
       "    .dataframe tbody tr th {\n",
       "        vertical-align: top;\n",
       "    }\n",
       "\n",
       "    .dataframe thead th {\n",
       "        text-align: right;\n",
       "    }\n",
       "</style>\n",
       "<table border=\"1\" class=\"dataframe\">\n",
       "  <thead>\n",
       "    <tr style=\"text-align: right;\">\n",
       "      <th></th>\n",
       "      <th>Territorial emissions (kt CO2e)</th>\n",
       "      <th>CO2 emissions within the scope of influence of LAs (kt CO2e)</th>\n",
       "      <th>Mid-year Population (thousands)</th>\n",
       "      <th>Area (km2)</th>\n",
       "    </tr>\n",
       "  </thead>\n",
       "  <tbody>\n",
       "    <tr>\n",
       "      <th>count</th>\n",
       "      <td>467443.000000</td>\n",
       "      <td>467443.000000</td>\n",
       "      <td>467443.000000</td>\n",
       "      <td>467443.000000</td>\n",
       "    </tr>\n",
       "    <tr>\n",
       "      <th>mean</th>\n",
       "      <td>16.029964</td>\n",
       "      <td>12.618935</td>\n",
       "      <td>171.972621</td>\n",
       "      <td>671.648052</td>\n",
       "    </tr>\n",
       "    <tr>\n",
       "      <th>std</th>\n",
       "      <td>94.186416</td>\n",
       "      <td>49.969305</td>\n",
       "      <td>116.024952</td>\n",
       "      <td>1654.220436</td>\n",
       "    </tr>\n",
       "    <tr>\n",
       "      <th>min</th>\n",
       "      <td>-2920.785256</td>\n",
       "      <td>0.000000</td>\n",
       "      <td>0.000000</td>\n",
       "      <td>0.000000</td>\n",
       "    </tr>\n",
       "    <tr>\n",
       "      <th>25%</th>\n",
       "      <td>0.030717</td>\n",
       "      <td>0.000000</td>\n",
       "      <td>99.383000</td>\n",
       "      <td>97.958400</td>\n",
       "    </tr>\n",
       "    <tr>\n",
       "      <th>50%</th>\n",
       "      <td>0.472936</td>\n",
       "      <td>0.000000</td>\n",
       "      <td>136.126000</td>\n",
       "      <td>279.042600</td>\n",
       "    </tr>\n",
       "    <tr>\n",
       "      <th>75%</th>\n",
       "      <td>3.742259</td>\n",
       "      <td>0.000000</td>\n",
       "      <td>212.137000</td>\n",
       "      <td>680.083400</td>\n",
       "    </tr>\n",
       "    <tr>\n",
       "      <th>max</th>\n",
       "      <td>9497.777472</td>\n",
       "      <td>4026.945363</td>\n",
       "      <td>1141.816000</td>\n",
       "      <td>26473.949600</td>\n",
       "    </tr>\n",
       "  </tbody>\n",
       "</table>\n",
       "</div>"
      ],
      "text/plain": [
       "       Territorial emissions (kt CO2e)   \n",
       "count                    467443.000000  \\\n",
       "mean                         16.029964   \n",
       "std                          94.186416   \n",
       "min                       -2920.785256   \n",
       "25%                           0.030717   \n",
       "50%                           0.472936   \n",
       "75%                           3.742259   \n",
       "max                        9497.777472   \n",
       "\n",
       "       CO2 emissions within the scope of influence of LAs (kt CO2e)   \n",
       "count                                      467443.000000             \\\n",
       "mean                                           12.618935              \n",
       "std                                            49.969305              \n",
       "min                                             0.000000              \n",
       "25%                                             0.000000              \n",
       "50%                                             0.000000              \n",
       "75%                                             0.000000              \n",
       "max                                          4026.945363              \n",
       "\n",
       "       Mid-year Population (thousands)     Area (km2)  \n",
       "count                    467443.000000  467443.000000  \n",
       "mean                        171.972621     671.648052  \n",
       "std                         116.024952    1654.220436  \n",
       "min                           0.000000       0.000000  \n",
       "25%                          99.383000      97.958400  \n",
       "50%                         136.126000     279.042600  \n",
       "75%                         212.137000     680.083400  \n",
       "max                        1141.816000   26473.949600  "
      ]
     },
     "execution_count": 127,
     "metadata": {},
     "output_type": "execute_result"
    }
   ],
   "source": [
    "df.iloc[:, 10:15].describe()"
   ]
  },
  {
   "cell_type": "code",
   "execution_count": 128,
   "id": "f1072829",
   "metadata": {},
   "outputs": [
    {
     "name": "stdout",
     "output_type": "stream",
     "text": [
      "<class 'pandas.core.frame.DataFrame'>\n",
      "RangeIndex: 467443 entries, 0 to 467442\n",
      "Data columns (total 5 columns):\n",
      " #   Column                                                        Non-Null Count   Dtype  \n",
      "---  ------                                                        --------------   -----  \n",
      " 0   Greenhouse gas                                                467443 non-null  object \n",
      " 1   Territorial emissions (kt CO2e)                               467443 non-null  float64\n",
      " 2   CO2 emissions within the scope of influence of LAs (kt CO2e)  467443 non-null  float64\n",
      " 3   Mid-year Population (thousands)                               467443 non-null  float64\n",
      " 4   Area (km2)                                                    467443 non-null  float64\n",
      "dtypes: float64(4), object(1)\n",
      "memory usage: 17.8+ MB\n"
     ]
    }
   ],
   "source": [
    "df.iloc[:, 10:15].info()"
   ]
  },
  {
   "cell_type": "code",
   "execution_count": 129,
   "id": "9c312d46",
   "metadata": {},
   "outputs": [
    {
     "data": {
      "text/plain": [
       "Greenhouse gas\n",
       "N2O    160564\n",
       "CO2    154339\n",
       "CH4    152540\n",
       "Name: count, dtype: int64"
      ]
     },
     "execution_count": 129,
     "metadata": {},
     "output_type": "execute_result"
    }
   ],
   "source": [
    "df['Greenhouse gas'].value_counts()"
   ]
  },
  {
   "cell_type": "code",
   "execution_count": 130,
   "id": "7ce869f0",
   "metadata": {},
   "outputs": [
    {
     "data": {
      "image/png": "[encoded data removed]",
      "text/plain": [
       "<Figure size 400x200 with 1 Axes>"
      ]
     },
     "metadata": {},
     "output_type": "display_data"
    }
   ],
   "source": [
    "#plotting all Green house gas\n",
    "numCountg = df['Greenhouse gas'].value_counts()\n",
    "\n",
    "#set theme\n",
    "sns.set_theme()\n",
    "plt.figure(figsize=(4,2))\n",
    "sns.barplot(x=numCountg.index, y=numCountg.values)\n",
    "\n",
    "# set plot title and axis labels\n",
    "plt.xticks()\n",
    "plt.title('Label Distribution on Green House Gas')\n",
    "plt.xlabel('Label_Green_House_Gas')\n",
    "plt.ylabel('Count_Green_House_Gas')\n",
    "\n",
    "# show plot\n",
    "plt.show()"
   ]
  },
  {
   "cell_type": "code",
   "execution_count": 131,
   "id": "fe2d7335",
   "metadata": {},
   "outputs": [
    {
     "data": {
      "image/png": "[encoded data removed]",
      "text/plain": [
       "<Figure size 400x200 with 1 Axes>"
      ]
     },
     "metadata": {},
     "output_type": "display_data"
    }
   ],
   "source": [
    "# Create the boxplot\n",
    "#set theme\n",
    "#sns.set_theme()\n",
    "plt.figure(figsize=(4,2))\n",
    "sns.boxplot(x=numCountg.index, y=numCountg.values)\n",
    "\n",
    "# Add a title and labels to the axes\n",
    "# set plot title and axis labels\n",
    "plt.xticks()\n",
    "plt.title('Boxplot on Green House Gas Data')\n",
    "plt.xlabel('Label_Green_House_Gas')\n",
    "plt.ylabel('Count_Green_House_Gas')\n",
    "\n",
    "# Display the plot\n",
    "plt.show()\n"
   ]
  },
  {
   "cell_type": "code",
   "execution_count": 132,
   "id": "13a2045b",
   "metadata": {},
   "outputs": [
    {
     "data": {
      "text/html": [
       "<div>\n",
       "<style scoped>\n",
       "    .dataframe tbody tr th:only-of-type {\n",
       "        vertical-align: middle;\n",
       "    }\n",
       "\n",
       "    .dataframe tbody tr th {\n",
       "        vertical-align: top;\n",
       "    }\n",
       "\n",
       "    .dataframe thead th {\n",
       "        text-align: right;\n",
       "    }\n",
       "</style>\n",
       "<table border=\"1\" class=\"dataframe\">\n",
       "  <thead>\n",
       "    <tr style=\"text-align: right;\">\n",
       "      <th></th>\n",
       "      <th>Territorial emissions (kt CO2e)</th>\n",
       "      <th>CO2 emissions within the scope of influence of LAs (kt CO2e)</th>\n",
       "      <th>Mid-year Population (thousands)</th>\n",
       "      <th>Area (km2)</th>\n",
       "      <th>label</th>\n",
       "    </tr>\n",
       "  </thead>\n",
       "  <tbody>\n",
       "    <tr>\n",
       "      <th>0</th>\n",
       "      <td>0.010737</td>\n",
       "      <td>0.000000</td>\n",
       "      <td>236.470</td>\n",
       "      <td>78.0311</td>\n",
       "      <td>3</td>\n",
       "    </tr>\n",
       "    <tr>\n",
       "      <th>1</th>\n",
       "      <td>0.380289</td>\n",
       "      <td>0.380289</td>\n",
       "      <td>236.470</td>\n",
       "      <td>78.0311</td>\n",
       "      <td>2</td>\n",
       "    </tr>\n",
       "    <tr>\n",
       "      <th>2</th>\n",
       "      <td>0.001710</td>\n",
       "      <td>0.000000</td>\n",
       "      <td>236.470</td>\n",
       "      <td>78.0311</td>\n",
       "      <td>1</td>\n",
       "    </tr>\n",
       "    <tr>\n",
       "      <th>3</th>\n",
       "      <td>0.021121</td>\n",
       "      <td>0.000000</td>\n",
       "      <td>236.470</td>\n",
       "      <td>78.0311</td>\n",
       "      <td>3</td>\n",
       "    </tr>\n",
       "    <tr>\n",
       "      <th>4</th>\n",
       "      <td>0.700438</td>\n",
       "      <td>0.700438</td>\n",
       "      <td>236.470</td>\n",
       "      <td>78.0311</td>\n",
       "      <td>2</td>\n",
       "    </tr>\n",
       "    <tr>\n",
       "      <th>...</th>\n",
       "      <td>...</td>\n",
       "      <td>...</td>\n",
       "      <td>...</td>\n",
       "      <td>...</td>\n",
       "      <td>...</td>\n",
       "    </tr>\n",
       "    <tr>\n",
       "      <th>467438</th>\n",
       "      <td>0.107471</td>\n",
       "      <td>0.000000</td>\n",
       "      <td>136.055</td>\n",
       "      <td>503.7739</td>\n",
       "      <td>1</td>\n",
       "    </tr>\n",
       "    <tr>\n",
       "      <th>467439</th>\n",
       "      <td>29.169887</td>\n",
       "      <td>0.000000</td>\n",
       "      <td>136.055</td>\n",
       "      <td>503.7739</td>\n",
       "      <td>3</td>\n",
       "    </tr>\n",
       "    <tr>\n",
       "      <th>467440</th>\n",
       "      <td>7.526841</td>\n",
       "      <td>0.000000</td>\n",
       "      <td>136.055</td>\n",
       "      <td>503.7739</td>\n",
       "      <td>3</td>\n",
       "    </tr>\n",
       "    <tr>\n",
       "      <th>467441</th>\n",
       "      <td>4.985691</td>\n",
       "      <td>4.985691</td>\n",
       "      <td>136.055</td>\n",
       "      <td>503.7739</td>\n",
       "      <td>2</td>\n",
       "    </tr>\n",
       "    <tr>\n",
       "      <th>467442</th>\n",
       "      <td>4.526269</td>\n",
       "      <td>0.000000</td>\n",
       "      <td>136.055</td>\n",
       "      <td>503.7739</td>\n",
       "      <td>1</td>\n",
       "    </tr>\n",
       "  </tbody>\n",
       "</table>\n",
       "<p>467443 rows × 5 columns</p>\n",
       "</div>"
      ],
      "text/plain": [
       "        Territorial emissions (kt CO2e)   \n",
       "0                              0.010737  \\\n",
       "1                              0.380289   \n",
       "2                              0.001710   \n",
       "3                              0.021121   \n",
       "4                              0.700438   \n",
       "...                                 ...   \n",
       "467438                         0.107471   \n",
       "467439                        29.169887   \n",
       "467440                         7.526841   \n",
       "467441                         4.985691   \n",
       "467442                         4.526269   \n",
       "\n",
       "        CO2 emissions within the scope of influence of LAs (kt CO2e)   \n",
       "0                                                0.000000             \\\n",
       "1                                                0.380289              \n",
       "2                                                0.000000              \n",
       "3                                                0.000000              \n",
       "4                                                0.700438              \n",
       "...                                                   ...              \n",
       "467438                                           0.000000              \n",
       "467439                                           0.000000              \n",
       "467440                                           0.000000              \n",
       "467441                                           4.985691              \n",
       "467442                                           0.000000              \n",
       "\n",
       "        Mid-year Population (thousands)  Area (km2)  label  \n",
       "0                               236.470     78.0311      3  \n",
       "1                               236.470     78.0311      2  \n",
       "2                               236.470     78.0311      1  \n",
       "3                               236.470     78.0311      3  \n",
       "4                               236.470     78.0311      2  \n",
       "...                                 ...         ...    ...  \n",
       "467438                          136.055    503.7739      1  \n",
       "467439                          136.055    503.7739      3  \n",
       "467440                          136.055    503.7739      3  \n",
       "467441                          136.055    503.7739      2  \n",
       "467442                          136.055    503.7739      1  \n",
       "\n",
       "[467443 rows x 5 columns]"
      ]
     },
     "execution_count": 132,
     "metadata": {},
     "output_type": "execute_result"
    }
   ],
   "source": [
    "# Define a function to convert the label to binary classification\n",
    "def is_emission(label):\n",
    "    if label == 'N2O':\n",
    "        return 1\n",
    "    elif label == 'CO2':\n",
    "        return 2\n",
    "    else:\n",
    "        return 3\n",
    "\n",
    "# Apply the function to the 'label' column and save the result to a new column 'emission'\n",
    "df['label'] = df['Greenhouse gas'].apply(is_emission)\n",
    "\n",
    "df.iloc[:, 11:16]"
   ]
  },
  {
   "cell_type": "code",
   "execution_count": 133,
   "id": "4d74a8f2",
   "metadata": {},
   "outputs": [
    {
     "data": {
      "text/plain": [
       "Greenhouse gas                                                  0\n",
       "Territorial emissions (kt CO2e)                                 0\n",
       "CO2 emissions within the scope of influence of LAs (kt CO2e)    0\n",
       "Mid-year Population (thousands)                                 0\n",
       "Area (km2)                                                      0\n",
       "dtype: int64"
      ]
     },
     "execution_count": 133,
     "metadata": {},
     "output_type": "execute_result"
    }
   ],
   "source": [
    "df.iloc[:, 10:15].isnull().sum()"
   ]
  },
  {
   "cell_type": "code",
   "execution_count": 134,
   "id": "a5be0312",
   "metadata": {},
   "outputs": [
    {
     "data": {
      "text/plain": [
       "array([0, 1, 2, ..., 0, 1, 2])"
      ]
     },
     "execution_count": 134,
     "metadata": {},
     "output_type": "execute_result"
    }
   ],
   "source": [
    "#Label Encoder\n",
    "le = LabelEncoder()\n",
    "y = le.fit_transform(df['Greenhouse gas'])\n",
    "y"
   ]
  },
  {
   "cell_type": "code",
   "execution_count": 135,
   "id": "e3d28dc4",
   "metadata": {},
   "outputs": [
    {
     "data": {
      "text/html": [
       "<div>\n",
       "<style scoped>\n",
       "    .dataframe tbody tr th:only-of-type {\n",
       "        vertical-align: middle;\n",
       "    }\n",
       "\n",
       "    .dataframe tbody tr th {\n",
       "        vertical-align: top;\n",
       "    }\n",
       "\n",
       "    .dataframe thead th {\n",
       "        text-align: right;\n",
       "    }\n",
       "</style>\n",
       "<table border=\"1\" class=\"dataframe\">\n",
       "  <thead>\n",
       "    <tr style=\"text-align: right;\">\n",
       "      <th></th>\n",
       "      <th>Territorial emissions (kt CO2e)</th>\n",
       "      <th>CO2 emissions within the scope of influence of LAs (kt CO2e)</th>\n",
       "      <th>Mid-year Population (thousands)</th>\n",
       "      <th>Area (km2)</th>\n",
       "      <th>label</th>\n",
       "    </tr>\n",
       "  </thead>\n",
       "  <tbody>\n",
       "    <tr>\n",
       "      <th>Territorial emissions (kt CO2e)</th>\n",
       "      <td>1.000000</td>\n",
       "      <td>0.524151</td>\n",
       "      <td>0.077538</td>\n",
       "      <td>0.020755</td>\n",
       "      <td>0.009360</td>\n",
       "    </tr>\n",
       "    <tr>\n",
       "      <th>CO2 emissions within the scope of influence of LAs (kt CO2e)</th>\n",
       "      <td>0.524151</td>\n",
       "      <td>1.000000</td>\n",
       "      <td>0.132619</td>\n",
       "      <td>0.023567</td>\n",
       "      <td>0.005298</td>\n",
       "    </tr>\n",
       "    <tr>\n",
       "      <th>Mid-year Population (thousands)</th>\n",
       "      <td>0.077538</td>\n",
       "      <td>0.132619</td>\n",
       "      <td>1.000000</td>\n",
       "      <td>0.036944</td>\n",
       "      <td>-0.001098</td>\n",
       "    </tr>\n",
       "    <tr>\n",
       "      <th>Area (km2)</th>\n",
       "      <td>0.020755</td>\n",
       "      <td>0.023567</td>\n",
       "      <td>0.036944</td>\n",
       "      <td>1.000000</td>\n",
       "      <td>0.002481</td>\n",
       "    </tr>\n",
       "    <tr>\n",
       "      <th>label</th>\n",
       "      <td>0.009360</td>\n",
       "      <td>0.005298</td>\n",
       "      <td>-0.001098</td>\n",
       "      <td>0.002481</td>\n",
       "      <td>1.000000</td>\n",
       "    </tr>\n",
       "  </tbody>\n",
       "</table>\n",
       "</div>"
      ],
      "text/plain": [
       "                                                    Territorial emissions (kt CO2e)   \n",
       "Territorial emissions (kt CO2e)                                            1.000000  \\\n",
       "CO2 emissions within the scope of influence of ...                         0.524151   \n",
       "Mid-year Population (thousands)                                            0.077538   \n",
       "Area (km2)                                                                 0.020755   \n",
       "label                                                                      0.009360   \n",
       "\n",
       "                                                    CO2 emissions within the scope of influence of LAs (kt CO2e)   \n",
       "Territorial emissions (kt CO2e)                                                              0.524151             \\\n",
       "CO2 emissions within the scope of influence of ...                                           1.000000              \n",
       "Mid-year Population (thousands)                                                              0.132619              \n",
       "Area (km2)                                                                                   0.023567              \n",
       "label                                                                                        0.005298              \n",
       "\n",
       "                                                    Mid-year Population (thousands)   \n",
       "Territorial emissions (kt CO2e)                                            0.077538  \\\n",
       "CO2 emissions within the scope of influence of ...                         0.132619   \n",
       "Mid-year Population (thousands)                                            1.000000   \n",
       "Area (km2)                                                                 0.036944   \n",
       "label                                                                     -0.001098   \n",
       "\n",
       "                                                    Area (km2)     label  \n",
       "Territorial emissions (kt CO2e)                       0.020755  0.009360  \n",
       "CO2 emissions within the scope of influence of ...    0.023567  0.005298  \n",
       "Mid-year Population (thousands)                       0.036944 -0.001098  \n",
       "Area (km2)                                            1.000000  0.002481  \n",
       "label                                                 0.002481  1.000000  "
      ]
     },
     "execution_count": 135,
     "metadata": {},
     "output_type": "execute_result"
    }
   ],
   "source": [
    "df.iloc[:, 11:16].corr()"
   ]
  },
  {
   "cell_type": "code",
   "execution_count": 138,
   "id": "d0a17d87",
   "metadata": {},
   "outputs": [],
   "source": [
    "#slicing target variable and data and manual feature selection\n",
    "X = df.iloc[:, 11:15]\n",
    "Y = df.iloc[:, 10]"
   ]
  },
  {
   "cell_type": "code",
   "execution_count": 139,
   "id": "7a7fa65e",
   "metadata": {},
   "outputs": [],
   "source": [
    "#splitting data into train, test data\n",
    "Xtrain, Xtest, ytrain, ytest = train_test_split(X, Y, test_size=0.2, random_state=42)"
   ]
  },
  {
   "cell_type": "code",
   "execution_count": 140,
   "id": "69d66748",
   "metadata": {},
   "outputs": [
    {
     "data": {
      "text/plain": [
       "0.7472215982628972"
      ]
     },
     "execution_count": 140,
     "metadata": {},
     "output_type": "execute_result"
    }
   ],
   "source": [
    "#define model\n",
    "rf = RandomForestClassifier()\n",
    "\n",
    "#fit model\n",
    "rf.fit(Xtrain, ytrain)\n",
    "\n",
    "#predict against Xtest\n",
    "pred = rf.predict(Xtest)\n",
    "\n",
    "#model performance\n",
    "accuracy_score(pred, ytest)"
   ]
  },
  {
   "cell_type": "code",
   "execution_count": 154,
   "id": "d38bc609",
   "metadata": {},
   "outputs": [
    {
     "data": {
      "text/plain": [
       "array(['CO2'], dtype=object)"
      ]
     },
     "execution_count": 154,
     "metadata": {},
     "output_type": "execute_result"
    }
   ],
   "source": [
    "rf.predict(Xtest[1:2])"
   ]
  },
  {
   "cell_type": "code",
   "execution_count": 149,
   "id": "0db187b6",
   "metadata": {},
   "outputs": [
    {
     "data": {
      "text/plain": [
       "0.7472429911540395"
      ]
     },
     "execution_count": 149,
     "metadata": {},
     "output_type": "execute_result"
    }
   ],
   "source": [
    "#hyperparameter tuning of the model (manual setting)\n",
    "rfh = RandomForestClassifier(max_depth=10000, n_estimators=200)\n",
    "\n",
    "#fit hypertuned model\n",
    "rfh.fit(Xtrain, ytrain)\n",
    "\n",
    "#predict against Xtest\n",
    "predh = rfh.predict(Xtest)\n",
    "\n",
    "#model performance\n",
    "accuracy_score(predh, ytest)"
   ]
  },
  {
   "cell_type": "code",
   "execution_count": 151,
   "id": "1cc973dc",
   "metadata": {},
   "outputs": [
    {
     "data": {
      "text/plain": [
       "array(['CO2'], dtype=object)"
      ]
     },
     "execution_count": 151,
     "metadata": {},
     "output_type": "execute_result"
    }
   ],
   "source": [
    "rfh.predict(Xtest[1:2])"
   ]
  },
  {
   "cell_type": "code",
   "execution_count": null,
   "id": "23664400",
   "metadata": {},
   "outputs": [],
   "source": []
  }
 ],
 "metadata": {
  "kernelspec": {
   "display_name": "Python 3 (ipykernel)",
   "language": "python",
   "name": "python3"
  },
  "language_info": {
   "codemirror_mode": {
    "name": "ipython",
    "version": 3
   },
   "file_extension": ".py",
   "mimetype": "text/x-python",
   "name": "python",
   "nbconvert_exporter": "python",
   "pygments_lexer": "ipython3",
   "version": "3.9.13"
  }
 },
 "nbformat": 4,
 "nbformat_minor": 5
}
